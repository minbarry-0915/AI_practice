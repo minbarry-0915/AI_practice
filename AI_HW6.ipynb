{
  "nbformat": 4,
  "nbformat_minor": 0,
  "metadata": {
    "colab": {
      "provenance": [],
      "gpuType": "T4",
      "authorship_tag": "ABX9TyM6FeUMZ8XQhqRhOqhHpdrs",
      "include_colab_link": true
    },
    "kernelspec": {
      "name": "python3",
      "display_name": "Python 3"
    },
    "language_info": {
      "name": "python"
    },
    "accelerator": "GPU"
  },
  "cells": [
    {
      "cell_type": "markdown",
      "metadata": {
        "id": "view-in-github",
        "colab_type": "text"
      },
      "source": [
        "<a href=\"https://colab.research.google.com/github/minbarry-0915/AI_practice/blob/main/AI_HW6.ipynb\" target=\"_parent\"><img src=\"https://colab.research.google.com/assets/colab-badge.svg\" alt=\"Open In Colab\"/></a>"
      ]
    },
    {
      "cell_type": "code",
      "execution_count": null,
      "metadata": {
        "colab": {
          "base_uri": "https://localhost:8080/"
        },
        "id": "1sPkhcfmgsez",
        "outputId": "703038d3-7e87-4a5b-847b-a4a8f17add69"
      },
      "outputs": [
        {
          "output_type": "stream",
          "name": "stdout",
          "text": [
            "A =  tensor([[ 1., -1.],\n",
            "        [ 1., -1.]])\n",
            "B =  tensor([[1, 2, 3],\n",
            "        [4, 5, 6]])\n",
            "C =  tensor([[0.8480, 0.0194, 0.5425],\n",
            "        [0.3343, 0.1450, 0.2286],\n",
            "        [0.2310, 0.7569, 0.5253]])\n",
            "D =  [[0.8479715  0.01936865 0.5424599 ]\n",
            " [0.33431488 0.14499027 0.22859651]\n",
            " [0.23097473 0.7568917  0.5253498 ]]\n",
            "E =  tensor([[[[1, 2, 3],\n",
            "          [4, 5, 6]]]])\n",
            "sum of A  =  tensor(0.)\n",
            "mean of A =  tensor(0.)\n"
          ]
        }
      ],
      "source": [
        "import numpy as np\n",
        "import torch\n",
        "\n",
        "## 실습 1 ##\n",
        "A = torch.tensor([[1., -1.], [1., -1.]])\n",
        "print('A = ', A)\n",
        "B = torch.tensor(np.array([[1,2,3],[4,5,6]]))\n",
        "print('B = ', B)\n",
        "\n",
        "C = torch.rand(3,3)\n",
        "print('C = ', C)\n",
        "\n",
        "D = C.numpy()\n",
        "print('D = ', D)\n",
        "\n",
        "E = B.view(1,1,2,3)\n",
        "print('E = ', E)\n",
        "\n",
        "print('sum of A  = ', A.sum())\n",
        "print('mean of A = ', A.mean())"
      ]
    },
    {
      "cell_type": "code",
      "source": [
        "import torch\n",
        "\n",
        "data = [[1,2],[3,4]]\n",
        "x_data = torch.tensor(data)\n",
        "\n",
        "import numpy as np\n",
        "np_array = np.array(data)\n",
        "tensor_from_numpy = torch.from_numpy(np_array)\n",
        "\n",
        "x_zeros = torch.zeros(2,3)\n",
        "x_ones = torch.ones(3,2)\n",
        "x_rand = torch.rand(2,2)\n",
        "\n",
        "random_uniform = torch.rand(3,3)\n",
        "int_tensor = torch.tensor([1,2,3])\n",
        "float_tensor = torch.tensor([1.0,2.0,3.0])\n",
        "tensor_a = torch.rand(3,3)\n",
        "ones_like_a = torch.ones_like(tensor_a)\n",
        "\n",
        "# Check if CUDA (GPU support) is available\n",
        "if torch.cuda.is_available():\n",
        "  # Create a tensor\n",
        "  tensor = torch.randn(3, 3) # Replace with your tensor\n",
        "  # Move the tensor to the GPU\n",
        "  tensor_gpu = tensor.to('cuda')\n",
        "  print(\"Tensor moved to GPU:\", tensor_gpu)\n",
        "else:\n",
        "  print(\"CUDA is not available. Tensor cannot be moved to GPU.\")"
      ],
      "metadata": {
        "colab": {
          "base_uri": "https://localhost:8080/"
        },
        "id": "-rULVvChiP3j",
        "outputId": "368dd8ea-c5c3-476e-ed28-74295299c613"
      },
      "execution_count": null,
      "outputs": [
        {
          "output_type": "stream",
          "name": "stdout",
          "text": [
            "Tensor moved to GPU: tensor([[-1.1626, -0.1514, -0.2848],\n",
            "        [-0.7309,  0.0846,  2.4920],\n",
            "        [-0.9439,  0.2925, -0.2240]], device='cuda:0')\n"
          ]
        }
      ]
    },
    {
      "cell_type": "code",
      "source": [
        "import torch\n",
        "# Create a tensor and set requires_grad=True to track computation with it\n",
        "x = torch.tensor([2.0, 3.0, 4.0], requires_grad=True)\n",
        "# Define a quadratic function: y = 3 * (x ** 2)\n",
        "y = 3 * (x ** 2)\n",
        "# Compute the sum of y to create a scalar output\n",
        "z = y.sum()\n",
        "# Perform backpropagation to compute gradients of z with respect to x\n",
        "z.backward()\n",
        "# Print the computed gradients\n",
        "print(x.grad) # This should print the gradient at x = [2.0, 3.0, 4.0]\n"
      ],
      "metadata": {
        "colab": {
          "base_uri": "https://localhost:8080/"
        },
        "id": "N9I86L-so2mB",
        "outputId": "47bac713-3a31-4aa2-eeb6-a052365fdff6"
      },
      "execution_count": null,
      "outputs": [
        {
          "output_type": "stream",
          "name": "stdout",
          "text": [
            "tensor([12., 18., 24.])\n"
          ]
        }
      ]
    },
    {
      "cell_type": "code",
      "source": [
        "import torch\n",
        "x = torch.tensor([[2.]], requires_grad=True)  # leaf tensor\n",
        "print('x = ', x)\n",
        "print('x.data = ', x.data)\n",
        "print('x.grad = ', x.grad)\n",
        "print('x.grad_fn() = ', x.grad_fn)\n",
        "\n",
        "# 연산 수행\n",
        "y = x * x * 3  # non-leaf tensor\n",
        "y.retain_grad()  # non-leaf tensor의 grad 저장 활성화\n",
        "print('\\ny = ', y)\n",
        "print('y.data = ', y.data)\n",
        "print('y.grad = ', y.grad)  # 아직 None (역전파 전)\n",
        "print('y.grad_fn() = ', y.grad_fn)\n",
        "\n",
        "z = y ** 2  # non-leaf tensor\n",
        "z.retain_grad()  # non-leaf tensor의 grad 저장 활성화\n",
        "print('\\nz = ', z)\n",
        "print('z.data = ', z.data)\n",
        "print('z.grad = ', z.grad)  # 아직 None (역전파 전)\n",
        "\n",
        "# 역전파 수행\n",
        "z.backward()\n",
        "print('\\nAfter invocation of backward()')\n",
        "\n",
        "# leaf tensor\n",
        "print('\\nx = ', x)\n",
        "print('x.data = ', x.data)\n",
        "print('x.grad = ', x.grad)  # leaf tensor의 grad는 자동 계산됨\n",
        "print('x.grad_fn( ) = ', x.grad_fn)\n",
        "\n",
        "# non-leaf tensor\n",
        "print('\\ny = ', y)\n",
        "print('y.data = ', y.data)\n",
        "print('y.grad = ', y.grad)  # non-leaf tensor의 grad 접근 가능\n",
        "print('y.grad_fn( ) = ', y.grad_fn)\n",
        "\n",
        "print('\\nz = ', z)\n",
        "print('z.data = ', z.data)\n",
        "print('z.grad = ', z.grad)  # non-leaf tensor의 grad 접근 가능\n"
      ],
      "metadata": {
        "colab": {
          "base_uri": "https://localhost:8080/"
        },
        "id": "80AsWc5jo_W0",
        "outputId": "b9169147-572f-435d-c479-bacf34361d0e"
      },
      "execution_count": null,
      "outputs": [
        {
          "output_type": "stream",
          "name": "stdout",
          "text": [
            "x =  tensor([[2.]], requires_grad=True)\n",
            "x.data =  tensor([[2.]])\n",
            "x.grad =  None\n",
            "x.grad_fn() =  None\n",
            "\n",
            "y =  tensor([[12.]], grad_fn=<MulBackward0>)\n",
            "y.data =  tensor([[12.]])\n",
            "y.grad =  None\n",
            "y.grad_fn() =  <MulBackward0 object at 0x7eeca5997550>\n",
            "\n",
            "z =  tensor([[144.]], grad_fn=<PowBackward0>)\n",
            "z.data =  tensor([[144.]])\n",
            "z.grad =  None\n",
            "\n",
            "After invocation of backward()\n",
            "\n",
            "x =  tensor([[2.]], requires_grad=True)\n",
            "x.data =  tensor([[2.]])\n",
            "x.grad =  tensor([[288.]])\n",
            "x.grad_fn( ) =  None\n",
            "\n",
            "y =  tensor([[12.]], grad_fn=<MulBackward0>)\n",
            "y.data =  tensor([[12.]])\n",
            "y.grad =  tensor([[24.]])\n",
            "y.grad_fn( ) =  <MulBackward0 object at 0x7eeca5997910>\n",
            "\n",
            "z =  tensor([[144.]], grad_fn=<PowBackward0>)\n",
            "z.data =  tensor([[144.]])\n",
            "z.grad =  tensor([[1.]])\n"
          ]
        }
      ]
    },
    {
      "cell_type": "markdown",
      "source": [
        "신경망 모델 구성"
      ],
      "metadata": {
        "id": "yrXZCbUsp0gz"
      }
    },
    {
      "cell_type": "code",
      "source": [
        "import torch\n",
        "import torch.nn as nn\n",
        "import torch.nn.functional as F\n",
        "# Define the neural network class\n",
        "class SimpleNeuralNet(nn.Module):\n",
        "  def __init__(self, input_size, hidden_size, num_classes):\n",
        "    super(SimpleNeuralNet, self ).__init__()\n",
        "    # First fully connected layer\n",
        "    self.fc1 = nn.Linear(input_size, hidden_size)\n",
        "    # Second fully connected layer that outputs our classes\n",
        "    self.fc2 = nn.Linear(hidden_size, num_classes)\n",
        "  def forward(self, x):\n",
        "    # Pass the input through the first layer, then apply a ReLU activation\n",
        "    x = F.relu(self.fc1(x))\n",
        "    # Pass the output through the second layer\n",
        "    x = self.fc2(x)\n",
        "    return x\n",
        "\n",
        "# Define the size of our layers and number of classes\n",
        "input_size = 784 # Example for flattened 28x28 pixel image input\n",
        "hidden_size = 500 # Number of nodes in the hidden layer\n",
        "num_classes = 10 # Number of output classes (e.g., for digits 0-9)\n",
        "\n",
        "# Create an instance of our neural network\n",
        "model = SimpleNeuralNet(input_size, hidden_size, num_classes)\n",
        "print(model)\n"
      ],
      "metadata": {
        "colab": {
          "base_uri": "https://localhost:8080/"
        },
        "id": "UADMGbuap2Tt",
        "outputId": "5113efad-141d-4426-be12-0682d5492191"
      },
      "execution_count": null,
      "outputs": [
        {
          "output_type": "stream",
          "name": "stdout",
          "text": [
            "SimpleNeuralNet(\n",
            "  (fc1): Linear(in_features=784, out_features=500, bias=True)\n",
            "  (fc2): Linear(in_features=500, out_features=10, bias=True)\n",
            ")\n"
          ]
        }
      ]
    },
    {
      "cell_type": "markdown",
      "source": [
        "학습가능 파라미터 확인"
      ],
      "metadata": {
        "id": "ZZiUAXagqHVg"
      }
    },
    {
      "cell_type": "code",
      "source": [
        "import torch\n",
        "import torch.nn as nn\n",
        "# Define a simple neural network\n",
        "class SimpleNet(nn.Module):\n",
        "  def __init__(self ):\n",
        "    super(SimpleNet, self ).__init__()\n",
        "    self.fc1 = nn.Linear(10, 5) # A fully connected layer\n",
        "    self.fc2 = nn.Linear(5, 2) # Another fully connected layer\n",
        "  def forward(self, x):\n",
        "    x = torch.relu(self.fc1(x))\n",
        "    x = self.fc2(x)\n",
        "    return x\n",
        "# Create an instance of the network\n",
        "net = SimpleNet()\n",
        "# Print the learnable parameters\n",
        "for param in net.parameters():\n",
        "  print(param)\n"
      ],
      "metadata": {
        "colab": {
          "base_uri": "https://localhost:8080/"
        },
        "id": "JElKXum0qJ82",
        "outputId": "4cec6538-cff7-494d-886a-a57c7bbe7bb5"
      },
      "execution_count": null,
      "outputs": [
        {
          "output_type": "stream",
          "name": "stdout",
          "text": [
            "Parameter containing:\n",
            "tensor([[-0.3088, -0.3161, -0.2099, -0.1640,  0.2435, -0.1238, -0.1802,  0.3051,\n",
            "          0.2772,  0.3115],\n",
            "        [-0.2406,  0.0573,  0.0244,  0.2363,  0.2835,  0.2885,  0.2706,  0.0533,\n",
            "         -0.0843,  0.1962],\n",
            "        [-0.2198,  0.3049,  0.3017,  0.1725, -0.1607, -0.1312, -0.2123,  0.1600,\n",
            "          0.0426,  0.2099],\n",
            "        [-0.2207, -0.0527, -0.0791, -0.0787, -0.2665,  0.0383, -0.2442,  0.2693,\n",
            "         -0.0896,  0.2318],\n",
            "        [-0.1468, -0.0922, -0.2152, -0.1916,  0.0581, -0.2412,  0.0467,  0.2328,\n",
            "         -0.1083,  0.2134]], requires_grad=True)\n",
            "Parameter containing:\n",
            "tensor([ 0.1360, -0.1980, -0.0432,  0.1540,  0.0453], requires_grad=True)\n",
            "Parameter containing:\n",
            "tensor([[ 0.2062,  0.3697,  0.4335,  0.1920,  0.1053],\n",
            "        [-0.2307, -0.1255, -0.1183, -0.3160,  0.2100]], requires_grad=True)\n",
            "Parameter containing:\n",
            "tensor([-0.2748, -0.1908], requires_grad=True)\n"
          ]
        }
      ]
    },
    {
      "cell_type": "markdown",
      "source": [
        "학습된 모델 저장"
      ],
      "metadata": {
        "id": "5vyKiBZAqYrk"
      }
    },
    {
      "cell_type": "code",
      "source": [
        "class SimpleNet(nn.Module):\n",
        "  def __init__(self ):\n",
        "    super(SimpleNet, self ).__init__()\n",
        "    self.fc1 = nn.Linear(10, 5)\n",
        "    self.fc2 = nn.Linear(5, 2)\n",
        "  def forward(self, x):\n",
        "    x = torch.relu(self.fc1(x))\n",
        "    x = self.fc2(x)\n",
        "    return x\n",
        "# Create an instance of the network (example)\n",
        "net = SimpleNet()\n",
        "# Assuming the model is trained here\n",
        "# ...\n",
        "# Save the model's state dictionary\n",
        "torch.save(net.state_dict(), 'model_weights.pth')\n",
        "print(\"Model's state dict saved as 'model_weights.pth'\")"
      ],
      "metadata": {
        "colab": {
          "base_uri": "https://localhost:8080/"
        },
        "id": "qGvlqBdVqcZ1",
        "outputId": "d731b498-3840-40fe-e2c4-e59e9cd53598"
      },
      "execution_count": null,
      "outputs": [
        {
          "output_type": "stream",
          "name": "stdout",
          "text": [
            "Model's state dict saved as 'model_weights.pth'\n"
          ]
        }
      ]
    },
    {
      "cell_type": "markdown",
      "source": [
        "저장된 모델 적재"
      ],
      "metadata": {
        "id": "O9wkJCSvqlEw"
      }
    },
    {
      "cell_type": "code",
      "source": [
        "import torch\n",
        "class SimpleNet(nn.Module):\n",
        "  def __init__(self ):\n",
        "    super(SimpleNet, self ).__init__()\n",
        "    self.fc1 = nn.Linear(10, 5)\n",
        "    self.fc2 = nn.Linear(5, 2)\n",
        "  def forward(self, x):\n",
        "    x = torch.relu(self.fc1(x))\n",
        "    x = self.fc2(x)\n",
        "    return x\n",
        "# 먼저 모델 객체 생성\n",
        "net = SimpleNet()\n",
        "# Load the saved state_dict\n",
        "net.load_state_dict(torch.load('model_weights.pth', weights_only=True))\n",
        "# If you are loading the model for inference (not training), set to eval mode\n",
        "model.eval()"
      ],
      "metadata": {
        "colab": {
          "base_uri": "https://localhost:8080/"
        },
        "id": "gH-X5CqVqmRO",
        "outputId": "9c7f79d2-615b-4fd7-b27a-c7442f6518ce"
      },
      "execution_count": null,
      "outputs": [
        {
          "output_type": "execute_result",
          "data": {
            "text/plain": [
              "SimpleNeuralNet(\n",
              "  (fc1): Linear(in_features=784, out_features=500, bias=True)\n",
              "  (fc2): Linear(in_features=500, out_features=10, bias=True)\n",
              ")"
            ]
          },
          "metadata": {},
          "execution_count": 10
        }
      ]
    },
    {
      "cell_type": "markdown",
      "source": [
        "DataSet과 DataLoader"
      ],
      "metadata": {
        "id": "FQu6Rpfqq9km"
      }
    },
    {
      "cell_type": "code",
      "source": [
        "import torch\n",
        "from torch.utils.data import Dataset, DataLoader\n",
        "# Example custom dataset\n",
        "class CustomDataset(Dataset):\n",
        "  def __init__(self, data, labels):\n",
        "    self.data = data\n",
        "    self.labels = labels\n",
        "  def __len__(self ):\n",
        "    return len(self.data)\n",
        "  def __getitem__(self, index):\n",
        "    return self.data[index], self.labels[index]\n",
        "# Sample data\n",
        "data = torch.randn(100, 10) # 100 samples, 10 features each\n",
        "labels = torch.randint(0, 2, (100,)) # 100 labels (binary classification)# Create dataset\n",
        "dataset = CustomDataset(data, labels)\n",
        "# Create DataLoader\n",
        "dataloader = DataLoader(dataset, batch_size=4, shuffle=True)\n",
        "# Iterate through the DataLoader\n",
        "for batch in dataloader:\n",
        "  batch_data, batch_labels = batch # Perform operations on batch_data and batch_labels"
      ],
      "metadata": {
        "id": "APPCpK4Pq9Xu"
      },
      "execution_count": null,
      "outputs": []
    },
    {
      "cell_type": "markdown",
      "source": [
        "모델 학습 및 추론"
      ],
      "metadata": {
        "id": "QrBfihB2rOJA"
      }
    },
    {
      "cell_type": "code",
      "source": [
        "import torch\n",
        "import torch.nn as nn\n",
        "import torch.optim as optim\n",
        "# Define a simple model\n",
        "class SimpleModel(nn.Module):\n",
        "  def __init__(self ):\n",
        "    super(SimpleModel, self ).__init__()\n",
        "    self.fc1 = nn.Linear(10, 50)\n",
        "    self.dropout = nn.Dropout(0.25)\n",
        "    self.fc2 = nn.Linear(50, 2)\n",
        "  def forward(self, x):\n",
        "    x = torch.relu(self.fc1(x))\n",
        "    x = self.dropout(x)\n",
        "    # Dropout during training\n",
        "    return x\n",
        "model = SimpleModel()\n",
        "\n",
        "# 손실함수와 optimizer\n",
        "Criterion = nn.CrossEntropyLoss()\n",
        "Optimizer = optim.SGD(model.parameters(), lr=0.01)\n",
        "# 학습데이터 (inputs and labels)\n",
        "Inputs = torch.randn(5, 10) # 10개 입력 속성의 5개 데이터\n",
        "labels = torch.randint(0, 2, (5,)) # 이진 분류 출력\n",
        "# 학습모드 설정\n",
        "model.train()\n",
        "for epoch in range(5): # epoch 수\n",
        "  Optimizer.zero_grad() # 파라미터 그레디언트 0 초기화\n",
        "  # forward pass\n",
        "  outputs = model(Inputs)\n",
        "  loss = Criterion(outputs, labels)\n",
        "  # backward pass + optimize\n",
        "  loss.backward() # 그레디언트 개산\n",
        "  Optimizer.step() # 가중치 갱신\n",
        "# 추론모드 설정\n",
        "model.eval()\n",
        "with torch.no_grad(): # 그레디언트 미계산\n",
        "  outputs = model(Inputs)"
      ],
      "metadata": {
        "id": "MLJ9JuJ4rQCf"
      },
      "execution_count": null,
      "outputs": []
    },
    {
      "cell_type": "markdown",
      "source": [
        " PyTorch의 MLP 프로그래밍\n"
      ],
      "metadata": {
        "id": "aWCLbr1Rrqbk"
      }
    },
    {
      "cell_type": "code",
      "source": [
        "#_*_ coding: utf-8 _*_\n",
        "\n",
        "from sklearn.datasets import fetch_openml\n",
        "mnist = fetch_openml('mnist_784', version=1, cache=True)\n",
        "\n",
        "X = mnist.data/255\n",
        "y = mnist.target\n",
        "\n",
        "import matplotlib.pyplot as plt\n",
        "plt.imshow(X.iloc[0].values.reshape(28,28), cmap='gray') # X.iloc[0]로 첫 번째 행을 선택하고 .values로 NumPy 배열로 변환합니다.\n",
        "plt.show()\n",
        "print(\"이미지 레이블: {}\".format(y[0]))\n",
        "\n",
        "import torch\n",
        "from torch.utils.data import TensorDataset, DataLoader\n",
        "from sklearn.model_selection import train_test_split\n",
        "\n",
        "X_train, X_test, y_train, y_test = train_test_split(X,y,test_size = 1/7, random_state = 0)\n",
        "X_train  = torch.Tensor(X_train.values)\n",
        "X_test = torch.Tensor(X_test.values)\n",
        "y_train = torch.LongTensor(list(map(int, y_train)))\n",
        "y_test = torch.LongTensor(list(map(int, y_test)))\n",
        "\n",
        "ds_train = TensorDataset(X_train, y_train)\n",
        "ds_test = TensorDataset(X_test, y_test)\n",
        "\n",
        "loader_train = DataLoader(ds_train, batch_size=64, shuffle=True)\n",
        "loader_test = DataLoader(ds_test, batch_size=64, shuffle=False)\n",
        "\n",
        "from torch import nn\n",
        "model = nn.Sequential()\n",
        "model.add_module('fc1', nn.Linear(28*28*1, 100))\n",
        "model.add_module('relu1', nn.ReLU())\n",
        "model.add_module('fc2', nn.Linear(100, 100))\n",
        "model.add_module('relu2', nn.ReLU())\n",
        "model.add_module('fc3', nn.Linear(100, 10))\n",
        "\n",
        "from torch import optim\n",
        "loss_fn = nn.CrossEntropyLoss()\n",
        "optimizer = optim.Adam(model.parameters(), lr=0.01)\n",
        "\n",
        "def train(epoch):\n",
        "  model.train()\n",
        "  for data, targets in loader_train:\n",
        "    optimizer.zero_grad()\n",
        "    outputs = model(data)\n",
        "    loss = loss_fn(outputs, targets)\n",
        "    loss.backward()\n",
        "    optimizer.step()\n",
        "  print('에포크 {}: 완료'.format(epoch))\n",
        "\n",
        "def test(head):\n",
        "  model.eval()\n",
        "  correct = 0\n",
        "  with torch.no_grad():\n",
        "    for data, targets in loader_test:\n",
        "      outputs = model(data)\n",
        "      _, predicted = torch.max(outputs.data, 1)\n",
        "      correct += predicted.eq(targets.data.view_as(predicted)).sum()\n",
        "    data_num = len(loader_test.dataset)\n",
        "    print('{} 정확도: {}/{} ({:.0f}%)'.format(head, correct, data_num, 100. * correct / data_num))\n",
        "\n",
        "test('시작')\n",
        "for epoch in range(3):\n",
        "  train(epoch)\n",
        "  test('학습중')\n",
        "test('학습후')\n",
        "\n",
        "index = 10\n",
        "model.eval()\n",
        "data = X_test[index]\n",
        "output = model(data)\n",
        "print('{} 번째 학습 데이터의 테스트 결과 : {}'.format(index, output))\n",
        "_, predicted = torch.max(output.data, 0)\n",
        "print('{} 번째 데이터의 예측: {}'.format(index, predicted))\n",
        "X_test_show = (X_test[index]).numpy()\n",
        "plt.imshow(X_test_show.reshape(28,28), cmap='gray')\n",
        "print('실제 레이블: {}'.format(y_test[index]))"
      ],
      "metadata": {
        "colab": {
          "base_uri": "https://localhost:8080/",
          "height": 1000
        },
        "id": "7gFXImF-rtSE",
        "outputId": "3fbb2856-0459-460c-8f70-048857838511"
      },
      "execution_count": null,
      "outputs": [
        {
          "output_type": "display_data",
          "data": {
            "text/plain": [
              "<Figure size 640x480 with 1 Axes>"
            ],
            "image/png": "[encoded data removed]"
          },
          "metadata": {}
        },
        {
          "output_type": "stream",
          "name": "stdout",
          "text": [
            "이미지 레이블: 5\n",
            "시작 정확도: 851/10000 (9%)\n",
            "에포크 0: 완료\n",
            "학습중 정확도: 9416/10000 (94%)\n",
            "에포크 1: 완료\n",
            "학습중 정확도: 9552/10000 (96%)\n",
            "에포크 2: 완료\n",
            "학습중 정확도: 9543/10000 (95%)\n",
            "학습후 정확도: 9543/10000 (95%)\n",
            "10 번째 학습 데이터의 테스트 결과 : tensor([-2.6341, 11.5339, -5.2136, -2.8809, -0.9954, -5.7306, -4.0908, -8.3414,\n",
            "         1.2382, -5.1854], grad_fn=<ViewBackward0>)\n",
            "10 번째 데이터의 예측: 1\n",
            "실제 레이블: 1\n"
          ]
        },
        {
          "output_type": "display_data",
          "data": {
            "text/plain": [
              "<Figure size 640x480 with 1 Axes>"
            ],
            "image/png": "[encoded data removed]"
          },
          "metadata": {}
        }
      ]
    },
    {
      "cell_type": "markdown",
      "source": [
        "[실습] CNN 모델을 이용한 MNIST 데이터 분류"
      ],
      "metadata": {
        "id": "58KfA0khv5Fz"
      }
    },
    {
      "cell_type": "code",
      "source": [
        "from sklearn.datasets import fetch_openml\n",
        "mnist = fetch_openml('mnist_784', version=1, cache=True)\n",
        "\n",
        "X = mnist.data/255\n",
        "y = mnist.target\n",
        "\n",
        "import torch\n",
        "from torch.utils.data import TensorDataset, DataLoader\n",
        "from sklearn.model_selection import train_test_split\n",
        "\n",
        "X_train, X_test, y_train, y_test = train_test_split(X,y,test_size= 1/7, random_state=0)\n",
        "X_train = torch.Tensor(X_train.values)\n",
        "X_test = torch.Tensor(X_test.values)\n",
        "y_train = torch.LongTensor(list(map(int, y_train)))\n",
        "y_test = torch.LongTensor(list(map(int, y_test)))\n",
        "\n",
        "import torch.nn as nn\n",
        "import torch.nn.functional as F\n",
        "from torch import optim\n",
        "from torch.autograd import Variable\n",
        "\n",
        "X_train = X_train.view(-1,1,28,28).float()\n",
        "X_test = X_test.view(-1,1,28,28).float()\n",
        "print(X_train.shape)\n",
        "print(X_test.shape)\n",
        "\n",
        "train = TensorDataset(X_train, y_train)\n",
        "test = TensorDataset(X_test, y_test)\n",
        "\n",
        "BATCH_SIZE = 32\n",
        "train_loader = DataLoader(train, batch_size=BATCH_SIZE, shuffle=True)\n",
        "test_loader = DataLoader(test, batch_size=BATCH_SIZE, shuffle=False)\n",
        "\n",
        "class CNN(nn.Module):\n",
        "  def __init__(self):\n",
        "    super(CNN, self).__init__()\n",
        "    self.conv1 = nn.Conv2d(1,32, kernel_size=5)\n",
        "    self.conv2 = nn.Conv2d(32,32, kernel_size=5)\n",
        "    self.conv3 = nn.Conv2d(32,64, kernel_size=5)\n",
        "    self.fn1 = nn.Linear(3*3*64, 256)\n",
        "    self.fn2 = nn.Linear(256, 10)\n",
        "\n",
        "    self.loss_fn = nn.CrossEntropyLoss()\n",
        "    self.optimizer = optim.Adam(self.parameters(), lr=0.01)\n",
        "\n",
        "  def forward(self, x):\n",
        "    x = F.relu(self.conv1(x))\n",
        "    x = F.relu(F.max_pool2d(self.conv2(x), 2))\n",
        "    x = F.dropout(x, p=0.5, training=self.training)\n",
        "    x = F.relu(F.max_pool2d(self.conv3(x),2))\n",
        "    x = F.dropout(x, p=0.5, training=self.training)\n",
        "    x = x.view(-1,3*3*64)\n",
        "    x = F.relu(self.fn1(x))\n",
        "    x = F.dropout(x, training=self.training)\n",
        "    x = self.fn2(x)\n",
        "    return F.log_softmax(x, dim = 1)\n",
        "\n",
        "def fit(model, loader_train):\n",
        "  optimizer = torch.optim.Adam(model.parameters())\n",
        "  error = nn.CrossEntropyLoss()\n",
        "  EPOCHS = 1\n",
        "  model.train()\n",
        "  for epoch in range(EPOCHS):\n",
        "    correct = 0\n",
        "    for batch_idx, (X_batch, y_batch) in enumerate(loader_train):\n",
        "      # Reshape X_batch to have the correct dimensions for the convolutional layer\n",
        "      var_X_batch = Variable(X_batch.view(-1, 1, 28, 28)).float()  # Reshape to [batch_size, channels, height, width]\n",
        "      var_y_batch = Variable(y_batch)\n",
        "      optimizer.zero_grad()\n",
        "      output = model(var_X_batch)\n",
        "      loss = error(output, var_y_batch)\n",
        "      loss.backward()\n",
        "      optimizer.step()\n",
        "      predicted = torch.max(output.data, 1)[1]\n",
        "      correct += (predicted == var_y_batch).sum()\n",
        "      if batch_idx % 50 == 0:\n",
        "        print('에포크 : {} [{}/{} ({:.0f}%)]\\t 손실함수 : {:.6f}\\t Accuracy:{:.3f}%'.format(epoch, batch_idx*len(var_X_batch), len(loader_train.dataset), 100.*batch_idx / len(loader_train), loss.data, float(correct*100) / float(BATCH_SIZE*(batch_idx+1))))\n",
        "def evaluate(model):\n",
        "  correct = 0\n",
        "  for test_imgs, test_labels in loader_test:\n",
        "    # Reshape test_imgs to have the correct dimensions for the convolutional layer\n",
        "    test_imgs = test_imgs.view(-1, 1, 28, 28).float()  # Reshape to [batch_size, channels, height, width]\n",
        "    test_imgs = Variable(test_imgs).float()\n",
        "    output = model(test_imgs)\n",
        "    predicted = torch.max(output,1)[1]\n",
        "    correct += (predicted == test_labels).sum()\n",
        "\n",
        "  print(\"테스트 데이터 정확도 : {:.3f}% \".format(float(correct)/(len(loader_test)*BATCH_SIZE)))\n",
        "\n",
        "cnn = CNN()\n",
        "evaluate(cnn)\n",
        "fit(cnn, loader_train)\n",
        "cnn.eval()\n",
        "evaluate(cnn)\n",
        "index = 10\n",
        "data = X_test[index].view(-1,1,28,28).float()\n",
        "output = cnn(data)\n",
        "print('{} 번째 학습 데이터의 테스트 결과 : {}'.format(index, output))\n",
        "_, predicted = torch.max(output.data, 1)\n",
        "print('{} 번째 데이터의 예측: {}'.format(index, predicted.numpy()))\n",
        "print('실제 레이블: {}'.format(y_test[index]))"
      ],
      "metadata": {
        "colab": {
          "base_uri": "https://localhost:8080/"
        },
        "id": "vcg7ic1bv41_",
        "outputId": "0638814b-a025-417e-c928-80fe811a3927"
      },
      "execution_count": null,
      "outputs": [
        {
          "output_type": "stream",
          "name": "stdout",
          "text": [
            "torch.Size([60000, 1, 28, 28])\n",
            "torch.Size([10000, 1, 28, 28])\n",
            "테스트 데이터 정확도 : 0.196% \n",
            "에포크 : 0 [0/60000 (0%)]\t 손실함수 : 2.310141\t Accuracy:12.500%\n",
            "에포크 : 0 [3200/60000 (5%)]\t 손실함수 : 0.941365\t Accuracy:83.640%\n",
            "에포크 : 0 [6400/60000 (11%)]\t 손실함수 : 0.285991\t Accuracy:122.401%\n",
            "에포크 : 0 [9600/60000 (16%)]\t 손실함수 : 0.258957\t Accuracy:140.252%\n",
            "에포크 : 0 [12800/60000 (21%)]\t 손실함수 : 0.248562\t Accuracy:150.451%\n",
            "에포크 : 0 [16000/60000 (27%)]\t 손실함수 : 0.382346\t Accuracy:157.034%\n",
            "에포크 : 0 [19200/60000 (32%)]\t 손실함수 : 0.267048\t Accuracy:161.856%\n",
            "에포크 : 0 [22400/60000 (37%)]\t 손실함수 : 0.127414\t Accuracy:165.037%\n",
            "에포크 : 0 [25600/60000 (43%)]\t 손실함수 : 0.113503\t Accuracy:167.807%\n",
            "에포크 : 0 [28800/60000 (48%)]\t 손실함수 : 0.184713\t Accuracy:170.039%\n",
            "에포크 : 0 [32000/60000 (53%)]\t 손실함수 : 0.197293\t Accuracy:171.831%\n",
            "에포크 : 0 [35200/60000 (59%)]\t 손실함수 : 0.039727\t Accuracy:173.350%\n",
            "에포크 : 0 [38400/60000 (64%)]\t 손실함수 : 0.217560\t Accuracy:174.558%\n",
            "에포크 : 0 [41600/60000 (69%)]\t 손실함수 : 0.176676\t Accuracy:175.826%\n",
            "에포크 : 0 [44800/60000 (75%)]\t 손실함수 : 0.303018\t Accuracy:176.921%\n",
            "에포크 : 0 [48000/60000 (80%)]\t 손실함수 : 0.074634\t Accuracy:177.855%\n",
            "에포크 : 0 [51200/60000 (85%)]\t 손실함수 : 0.104966\t Accuracy:178.687%\n",
            "에포크 : 0 [54400/60000 (91%)]\t 손실함수 : 0.227931\t Accuracy:179.355%\n",
            "에포크 : 0 [57600/60000 (96%)]\t 손실함수 : 0.227385\t Accuracy:180.022%\n",
            "테스트 데이터 정확도 : 1.946% \n",
            "10 번째 학습 데이터의 테스트 결과 : tensor([[-1.3430e+01, -9.5363e-05, -1.3085e+01, -1.8130e+01, -9.6006e+00,\n",
            "         -1.4560e+01, -1.4255e+01, -1.1063e+01, -1.2771e+01, -1.2304e+01]],\n",
            "       grad_fn=<LogSoftmaxBackward0>)\n",
            "10 번째 데이터의 예측: [1]\n",
            "실제 레이블: 1\n"
          ]
        }
      ]
    }
  ]
}